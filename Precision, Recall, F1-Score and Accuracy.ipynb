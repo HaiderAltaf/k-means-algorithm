{
 "cells": [
  {
   "cell_type": "code",
   "execution_count": 178,
   "id": "ae5b9079",
   "metadata": {},
   "outputs": [],
   "source": [
    "import numpy as np\n",
    "import pandas as pd\n",
    "import matplotlib.pyplot as plt\n",
    "import math\n",
    "import csv\n",
    "\n"
   ]
  },
  {
   "cell_type": "code",
   "execution_count": 179,
   "id": "e0c72a02",
   "metadata": {},
   "outputs": [],
   "source": [
    "# logistic regression\n",
    "\n",
    "def Hw(w,x):\n",
    "    return 1/(1+np.exp(-sum(np.transpose(w)*x)))\n",
    "\n",
    "def J(m,W,X,Y):\n",
    "    su=0\n",
    "    \n",
    "    for i in range(1,m+1):\n",
    "        su+=(1/m)*(-Y[i-1]*np.log(Hw(W,X[i-1]))-(1-Y[i-1])*np.log(1-Hw(W,X[i-1])))    \n",
    "    return su\n",
    "                \n",
    "def GradeJ(m,W,X,Y):\n",
    "    GJ=[]\n",
    "    n=len(X[0])\n",
    "    for j in range(n):\n",
    "        gj=0\n",
    "        for i in range(1,m+1):\n",
    "            gj+=(1/m)*(Hw(W,X[i-1])-Y[i-1])*X[i-1][j]\n",
    "        GJ.append(gj)\n",
    "        \n",
    "    return GJ\n",
    "\n",
    "def Linear_LogRegr(m,alpha,X,Y,X1,X2):\n",
    "    \n",
    "    W=np.zeros(len(X[0]))   # initialize weights\n",
    "    loss_fu=[]\n",
    "    K=[]\n",
    "    epoch=1000\n",
    "    \n",
    "    for k in range(epoch):\n",
    "        \n",
    "        for j in range(len(X[0])):\n",
    "            w=W[j]-alpha*GradeJ(m,W,X,Y)[j]\n",
    "            W[j]=w\n",
    "        \n",
    "        #print(\"No. of iteration: \",k)\n",
    "        #print(W)\n",
    "        \n",
    "        K.append(k)\n",
    "        loss_fu.append(J(m,W,X,Y))\n",
    "        \n",
    "        from numpy import linalg\n",
    "        \n",
    "        if np.linalg.norm(W)<=0.001:         # stopping condition\n",
    "            print(\"The final weights are: \",W)\n",
    "            break\n",
    "    \n",
    "    plt.subplot(1, 2, 1)\n",
    "    plt.plot(K,loss_fu)\n",
    "    plt.title('Loss Function v/s iteration')\n",
    "    \n",
    "    plt.subplot(1, 2, 2)\n",
    "    s=lambda r:(-W[0]-W[1]*r)/(W[2])\n",
    "    S=s(X1)\n",
    "    plt.plot(X1,S)\n",
    "    plt.scatter(X1[Y==0], X2[Y==0], s=6, c='r')\n",
    "    plt.scatter(X1[Y==1], X2[Y==1], s=6, c='b')\n",
    "    plt.xlabel('X1')\n",
    "    plt.ylabel('X2')\n",
    "    plt.title('Decision Boundary')\n",
    "    \n",
    "    plt.show()\n",
    "\n",
    "    \n",
    "    return W\n",
    "\n",
    "\n",
    "            "
   ]
  },
  {
   "cell_type": "code",
   "execution_count": 180,
   "id": "7083b32c",
   "metadata": {},
   "outputs": [],
   "source": [
    "#(a) Plot the decision boundary using the developed logistic regression code\n",
    "# splitting the data in 70/30 and plotting the decision boundary\n",
    "\n",
    "df=pd.read_csv('Lab13_P2.csv')\n",
    "\n",
    "train_data = df.sample(frac=0.7, random_state=25) \n",
    "test_data = df.drop(train_data.index)\n",
    "\n",
    "train_data=train_data.reset_index(drop=True)  # resetting the index\n",
    "\n",
    "\n",
    "test_data=test_data.reset_index(drop=True)   # resetting the index\n",
    "\n",
    "X1 = train_data.iloc[:, 0]\n",
    "X2= train_data.iloc[:, 1]\n",
    "Y= train_data.iloc[:, 2]\n",
    "\n",
    "X0=np.ones(len(X1))\n",
    "X=list(zip(X0,X1,X2))\n",
    "m=len(Y)\n",
    "W=np.zeros(len(X[0]))\n",
    "alpha=1\n",
    "\n",
    "\n"
   ]
  },
  {
   "cell_type": "code",
   "execution_count": 181,
   "id": "8c796bec",
   "metadata": {},
   "outputs": [
    {
     "data": {
      "image/png": "[encoded data removed]",
      "text/plain": [
       "<Figure size 432x288 with 2 Axes>"
      ]
     },
     "metadata": {
      "needs_background": "light"
     },
     "output_type": "display_data"
    },
    {
     "name": "stdout",
     "output_type": "stream",
     "text": [
      "Final weights are:  [-11.59452601   2.53479075   2.62391326]\n"
     ]
    }
   ],
   "source": [
    "W_f=Linear_LogRegr(m,alpha,X,Y,X1,X2)\n",
    "print(\"Final weights are: \",W_f)"
   ]
  },
  {
   "cell_type": "code",
   "execution_count": 182,
   "id": "07076d01",
   "metadata": {},
   "outputs": [
    {
     "name": "stdout",
     "output_type": "stream",
     "text": [
      "The true labels:        0    1\n",
      "1    0\n",
      "2    0\n",
      "Name: label, dtype: int64\n",
      "The predicted labels:   [0, 0, 0]\n"
     ]
    }
   ],
   "source": [
    "X1 = test_data.iloc[:, 0]\n",
    "X2= test_data.iloc[:, 1]\n",
    "True_label= test_data.iloc[:, 2]\n",
    "\n",
    "X0=np.ones(len(X1))\n",
    "X=list(zip(X0,X1,X2))\n",
    "\n",
    "pred_label=[]\n",
    "\n",
    "# find the predicted label\n",
    "for i in range(len(X)):\n",
    "    if sum(W_f*X[i])<0:\n",
    "        pred_label.append(0)\n",
    "    else:\n",
    "        pred_label.append(1)\n",
    "\n",
    "print(\"The true labels:       \",True_label)        \n",
    "print(\"The predicted labels:  \",pred_label)"
   ]
  },
  {
   "cell_type": "code",
   "execution_count": 183,
   "id": "27ad2642",
   "metadata": {},
   "outputs": [],
   "source": [
    "# confusion matrix function\n",
    "\n",
    "def Confusion_Matrix(True_label,pred_label):\n",
    "\n",
    "    # True positive(TP)\n",
    "\n",
    "    TP=0\n",
    "    for i in range(len(True_label)):\n",
    "        if True_label[i]==pred_label[i] and True_label[i]==1 :\n",
    "            TP+=1\n",
    "    print(\"True positive:  \",TP)\n",
    "\n",
    "\n",
    "    # True negtive(TN)\n",
    "    TN=0\n",
    "    for i in range(len(True_label)):\n",
    "        if True_label[i]==pred_label[i] and True_label[i]==0 :\n",
    "            TN+=1\n",
    "    print(\"True negative:  \",TN)\n",
    "\n",
    "    # Flase positive(FP)\n",
    "    FP=0\n",
    "    for i in range(len(True_label)):\n",
    "        if True_label[i]!=pred_label[i] and True_label[i]==0 :\n",
    "            FP+=1\n",
    "    print(\"Flase positive:  \",FP)\n",
    "\n",
    "    # Flase negative(FN)\n",
    "    FN=0\n",
    "    for i in range(len(True_label)):\n",
    "        if True_label[i]!=pred_label[i] and True_label[i]==1 :\n",
    "            FN+=1\n",
    "    print(\"Flase negative:  \",FN)\n",
    "    \n",
    "    return [TP,TN,FP,FN]"
   ]
  },
  {
   "cell_type": "code",
   "execution_count": 184,
   "id": "69619b09",
   "metadata": {},
   "outputs": [
    {
     "name": "stdout",
     "output_type": "stream",
     "text": [
      "True positive:   0\n",
      "True negative:   2\n",
      "Flase positive:   0\n",
      "Flase negative:   1\n"
     ]
    }
   ],
   "source": [
    "# finding confusion matrix for our data\n",
    "\n",
    "CM=Confusion_Matrix(True_label,pred_label)"
   ]
  },
  {
   "cell_type": "code",
   "execution_count": 185,
   "id": "b559954e",
   "metadata": {},
   "outputs": [],
   "source": [
    "# defining evaluation matrix\n",
    "\n",
    "def Evaluation_metric(TP,TN,FP,FN):\n",
    "    \n",
    "    # find the accuracy metric\n",
    "    accuracy = (TP + TN)/(TP + FP + TN + FN)\n",
    "    print(\"accuracy:  \",accuracy*100)\n",
    "    \n",
    "    # recall metric\n",
    "    recall=TP/(TP+FN)\n",
    "    print(\"Recall: \",recall)\n",
    "    \n",
    "    # precision metric\n",
    "    precision=TP/(TP+FP) \n",
    "    print(\"Precision: \",TP/(TP+FP))\n",
    "\n",
    "    # F1-Score metric\n",
    "    F1_score=(2*precision *recall)/(precision+recall)\n",
    "    print(\"F1 Score: \",F1_score)"
   ]
  },
  {
   "cell_type": "code",
   "execution_count": 186,
   "id": "eaa99195",
   "metadata": {},
   "outputs": [
    {
     "name": "stdout",
     "output_type": "stream",
     "text": [
      "accuracy:   66.66666666666666\n",
      "Recall:  0.0\n"
     ]
    },
    {
     "ename": "ZeroDivisionError",
     "evalue": "division by zero",
     "output_type": "error",
     "traceback": [
      "\u001b[1;31m---------------------------------------------------------------------------\u001b[0m",
      "\u001b[1;31mZeroDivisionError\u001b[0m                         Traceback (most recent call last)",
      "\u001b[1;32m~\\AppData\\Local\\Temp/ipykernel_18172/396853720.py\u001b[0m in \u001b[0;36m<module>\u001b[1;34m\u001b[0m\n\u001b[0;32m      1\u001b[0m \u001b[1;31m# (b) Evaluate the metrics such as Precision, Recall, F1-Score and Accuracy on the test data.\u001b[0m\u001b[1;33m\u001b[0m\u001b[1;33m\u001b[0m\u001b[0m\n\u001b[0;32m      2\u001b[0m \u001b[1;33m\u001b[0m\u001b[0m\n\u001b[1;32m----> 3\u001b[1;33m \u001b[0mEvaluation_metric\u001b[0m\u001b[1;33m(\u001b[0m\u001b[0mCM\u001b[0m\u001b[1;33m[\u001b[0m\u001b[1;36m0\u001b[0m\u001b[1;33m]\u001b[0m\u001b[1;33m,\u001b[0m\u001b[0mCM\u001b[0m\u001b[1;33m[\u001b[0m\u001b[1;36m1\u001b[0m\u001b[1;33m]\u001b[0m\u001b[1;33m,\u001b[0m\u001b[0mCM\u001b[0m\u001b[1;33m[\u001b[0m\u001b[1;36m2\u001b[0m\u001b[1;33m]\u001b[0m\u001b[1;33m,\u001b[0m\u001b[0mCM\u001b[0m\u001b[1;33m[\u001b[0m\u001b[1;36m3\u001b[0m\u001b[1;33m]\u001b[0m\u001b[1;33m)\u001b[0m\u001b[1;33m\u001b[0m\u001b[1;33m\u001b[0m\u001b[0m\n\u001b[0m",
      "\u001b[1;32m~\\AppData\\Local\\Temp/ipykernel_18172/3704855320.py\u001b[0m in \u001b[0;36mEvaluation_metric\u001b[1;34m(TP, TN, FP, FN)\u001b[0m\n\u001b[0;32m     12\u001b[0m \u001b[1;33m\u001b[0m\u001b[0m\n\u001b[0;32m     13\u001b[0m     \u001b[1;31m# precision metric\u001b[0m\u001b[1;33m\u001b[0m\u001b[1;33m\u001b[0m\u001b[0m\n\u001b[1;32m---> 14\u001b[1;33m     \u001b[0mprecision\u001b[0m\u001b[1;33m=\u001b[0m\u001b[0mTP\u001b[0m\u001b[1;33m/\u001b[0m\u001b[1;33m(\u001b[0m\u001b[0mTP\u001b[0m\u001b[1;33m+\u001b[0m\u001b[0mFP\u001b[0m\u001b[1;33m)\u001b[0m\u001b[1;33m\u001b[0m\u001b[1;33m\u001b[0m\u001b[0m\n\u001b[0m\u001b[0;32m     15\u001b[0m     \u001b[0mprint\u001b[0m\u001b[1;33m(\u001b[0m\u001b[1;34m\"Precision: \"\u001b[0m\u001b[1;33m,\u001b[0m\u001b[0mTP\u001b[0m\u001b[1;33m/\u001b[0m\u001b[1;33m(\u001b[0m\u001b[0mTP\u001b[0m\u001b[1;33m+\u001b[0m\u001b[0mFP\u001b[0m\u001b[1;33m)\u001b[0m\u001b[1;33m)\u001b[0m\u001b[1;33m\u001b[0m\u001b[1;33m\u001b[0m\u001b[0m\n\u001b[0;32m     16\u001b[0m \u001b[1;33m\u001b[0m\u001b[0m\n",
      "\u001b[1;31mZeroDivisionError\u001b[0m: division by zero"
     ]
    }
   ],
   "source": [
    "# (b) Evaluate the metrics such as Precision, Recall, F1-Score and Accuracy on the test data.\n",
    "\n",
    "Evaluation_metric(CM[0],CM[1],CM[2],CM[3])"
   ]
  },
  {
   "cell_type": "markdown",
   "id": "53a823ce",
   "metadata": {},
   "source": [
    "## (b) Evaluate the metrics such as Precision, Recall, F1-Score and Accuracy on the test data for another big data"
   ]
  },
  {
   "cell_type": "code",
   "execution_count": 187,
   "id": "feacc2be",
   "metadata": {},
   "outputs": [],
   "source": [
    "\n",
    "# splitting the data in 70/30 and plotting the decision boundary\n",
    "\n",
    "df=pd.read_csv('Logistic_regression_ls.csv')\n",
    "\n",
    "train_data = df.sample(frac=0.7, random_state=25) \n",
    "test_data = df.drop(train_data.index)\n",
    "\n",
    "train_data=train_data.reset_index(drop=True)  # resetting the index\n",
    "test_data=test_data.reset_index(drop=True)   # resetting the index\n",
    "\n",
    "X1 = train_data.iloc[:, 0]\n",
    "X2= train_data.iloc[:, 1]\n",
    "Y= train_data.iloc[:, 2]\n",
    "\n",
    "X0=np.ones(len(X1))\n",
    "X=list(zip(X0,X1,X2))\n",
    "m=len(Y)\n",
    "W=np.zeros(len(X[0]))\n",
    "alpha=0.1"
   ]
  },
  {
   "cell_type": "code",
   "execution_count": 188,
   "id": "5fdb5509",
   "metadata": {},
   "outputs": [
    {
     "data": {
      "image/png": "[encoded data removed]",
      "text/plain": [
       "<Figure size 432x288 with 2 Axes>"
      ]
     },
     "metadata": {
      "needs_background": "light"
     },
     "output_type": "display_data"
    },
    {
     "name": "stdout",
     "output_type": "stream",
     "text": [
      "Final weights are:  [-5.888609    0.77058908  0.80218704]\n"
     ]
    }
   ],
   "source": [
    "#(a) Plot the decision boundary using the developed logistic regression code\n",
    "\n",
    "W_f=Linear_LogRegr(m,alpha,X,Y,X1,X2)\n",
    "print(\"Final weights are: \",W_f)"
   ]
  },
  {
   "cell_type": "code",
   "execution_count": 189,
   "id": "3fc0d5d5",
   "metadata": {},
   "outputs": [
    {
     "name": "stdout",
     "output_type": "stream",
     "text": [
      "The true labels:        0      1\n",
      "1      1\n",
      "2      0\n",
      "3      0\n",
      "4      0\n",
      "      ..\n",
      "145    1\n",
      "146    1\n",
      "147    1\n",
      "148    0\n",
      "149    0\n",
      "Name: label, Length: 150, dtype: int64\n",
      "The predicted labels:   [1, 1, 0, 0, 0, 1, 0, 1, 0, 1, 0, 0, 1, 0, 0, 0, 0, 1, 1, 1, 1, 1, 0, 0, 0, 1, 1, 1, 0, 0, 1, 1, 0, 0, 1, 1, 1, 0, 1, 0, 0, 1, 1, 1, 1, 1, 1, 0, 1, 0, 0, 1, 0, 1, 1, 0, 0, 0, 0, 1, 0, 0, 0, 1, 1, 1, 0, 0, 0, 1, 1, 1, 1, 1, 0, 0, 1, 0, 1, 1, 0, 1, 1, 0, 1, 1, 0, 0, 1, 1, 1, 0, 1, 1, 1, 0, 1, 1, 1, 0, 1, 1, 0, 1, 0, 1, 1, 1, 1, 0, 1, 1, 0, 1, 1, 0, 0, 1, 1, 0, 0, 1, 1, 1, 0, 0, 0, 1, 0, 1, 1, 0, 1, 1, 1, 1, 0, 1, 1, 1, 0, 0, 0, 0, 0, 1, 1, 1, 0, 0]\n"
     ]
    }
   ],
   "source": [
    "# (b) Evaluate the metrics such as Precision, Recall, F1-Score and Accuracy on the test data.\n",
    "\n",
    "X1 = test_data.iloc[:, 0]\n",
    "X2= test_data.iloc[:, 1]\n",
    "True_label= test_data.iloc[:, 2]\n",
    "\n",
    "X0=np.ones(len(X1))\n",
    "X=list(zip(X0,X1,X2))\n",
    "\n",
    "pred_label=[]\n",
    "\n",
    "# find the predicted label\n",
    "for i in range(len(X)):\n",
    "    if sum(W_f*X[i])<0:\n",
    "        pred_label.append(0)\n",
    "    else:\n",
    "        pred_label.append(1)\n",
    "\n",
    "print(\"The true labels:       \",True_label)        \n",
    "print(\"The predicted labels:  \",pred_label)"
   ]
  },
  {
   "cell_type": "code",
   "execution_count": 190,
   "id": "44c1b489",
   "metadata": {},
   "outputs": [
    {
     "name": "stdout",
     "output_type": "stream",
     "text": [
      "True positive:   84\n",
      "True negative:   66\n",
      "Flase positive:   0\n",
      "Flase negative:   0\n"
     ]
    }
   ],
   "source": [
    "CM=Confusion_Matrix(True_label,pred_label)"
   ]
  },
  {
   "cell_type": "code",
   "execution_count": 191,
   "id": "23eaa3db",
   "metadata": {},
   "outputs": [
    {
     "name": "stdout",
     "output_type": "stream",
     "text": [
      "accuracy:   100.0\n",
      "Recall:  1.0\n",
      "Precision:  1.0\n",
      "F1 Score:  1.0\n"
     ]
    }
   ],
   "source": [
    "Evaluation_metric(CM[0],CM[1],CM[2],CM[3])"
   ]
  },
  {
   "cell_type": "code",
   "execution_count": null,
   "id": "5210d339",
   "metadata": {},
   "outputs": [],
   "source": []
  }
 ],
 "metadata": {
  "kernelspec": {
   "display_name": "Python 3 (ipykernel)",
   "language": "python",
   "name": "python3"
  },
  "language_info": {
   "codemirror_mode": {
    "name": "ipython",
    "version": 3
   },
   "file_extension": ".py",
   "mimetype": "text/x-python",
   "name": "python",
   "nbconvert_exporter": "python",
   "pygments_lexer": "ipython3",
   "version": "3.9.7"
  }
 },
 "nbformat": 4,
 "nbformat_minor": 5
}
