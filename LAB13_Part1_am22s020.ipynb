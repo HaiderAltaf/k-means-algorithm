{
 "cells": [
  {
   "cell_type": "markdown",
   "id": "83e32a8d",
   "metadata": {},
   "source": [
    "## 1) Implement K - means algorithm, assuming two features."
   ]
  },
  {
   "cell_type": "code",
   "execution_count": 128,
   "id": "17518824",
   "metadata": {},
   "outputs": [],
   "source": [
    "import math \n",
    "import numpy as np\n",
    "\n",
    "X=np.array([[1,0],[1,1],[0,1],[1,2],[2,2],[3,3],[3,4],[4,4]])\n",
    "m=len(X)\n",
    "\n",
    "epoch=100\n",
    "K=2  # no. of clusters\n",
    "U1=[2,3] # new centroid\n",
    "U2=[2,4]\n",
    "\n",
    "def Kmeans(X,epoch,m,U1,U2):\n",
    "    \n",
    "    \n",
    "    for iteration in range(epoch):\n",
    "        C1= [] # cluster-1\n",
    "        C2= []  # cluster-2\n",
    "        \n",
    "        # finding the distane between the samples and the centroids and assigning the samples to the clusters\n",
    "        for i in range(m):\n",
    "            d1=math.dist(U1,X[i])\n",
    "            d2=math.dist(U2,X[i])\n",
    "            if d1>=d2:\n",
    "                C2.append(X[i])\n",
    "            else:\n",
    "                C1.append(X[i])\n",
    "\n",
    "        # updating centroids\n",
    "        C1_x=0\n",
    "        C2_x=0\n",
    "        for k in range(len(X[0])):\n",
    "            for i in range(len(C1)):\n",
    "                C1_x+=C1[i][k]\n",
    "            U1[k]=C1_x/(len(C1)+0.001)\n",
    "            \n",
    "            for i in range(len(C2)):\n",
    "                C2_x+=C2[i][k]\n",
    "            U2[k]=C2_x/(len(C2)+0.001)\n",
    "            \n",
    "\n",
    "        # stopping criteria\n",
    "        \n",
    "        loss1=0\n",
    "        for i in range(len(C1)):\n",
    "            loss1+=(1/m)*math.dist(U1,C1[i])\n",
    "            \n",
    "        loss2=0\n",
    "        for i in range(len(C2)):\n",
    "            loss2+=(1/m)*math.dist(U2,C2[i])\n",
    "            \n",
    "        if (loss1+loss2)<0.1:\n",
    "            break\n",
    "            #print(\"The clusters and the centroids are: \",C1,C2,U1,U2)\n",
    "            \n",
    "    print(\"The clusters and the respective centroids are: \")       \n",
    "    return [C1,C2,U1,U2]\n",
    "\n",
    "\n"
   ]
  },
  {
   "cell_type": "code",
   "execution_count": 129,
   "id": "0bc98c3a",
   "metadata": {},
   "outputs": [
    {
     "name": "stdout",
     "output_type": "stream",
     "text": [
      "The clusters and the respective centroids are: \n"
     ]
    },
    {
     "data": {
      "text/plain": [
       "[[array([3, 3]), array([3, 4]), array([4, 4])],\n",
       " [array([1, 0]), array([1, 1]), array([0, 1]), array([1, 2]), array([2, 2])],\n",
       " [3.332222592469177, 6.9976674441852715],\n",
       " [0.9998000399920015, 2.1995600879824035]]"
      ]
     },
     "execution_count": 129,
     "metadata": {},
     "output_type": "execute_result"
    }
   ],
   "source": [
    "Kmeans(X,epoch,m,U1,U2)"
   ]
  },
  {
   "cell_type": "markdown",
   "id": "4f609ecc",
   "metadata": {},
   "source": [
    "## Question-2"
   ]
  },
  {
   "cell_type": "code",
   "execution_count": 130,
   "id": "3ae069c5",
   "metadata": {},
   "outputs": [],
   "source": [
    "# 2) Create the following data and write to a csv file: Generate 10 random points in each of the the following circles \n",
    "# (i) centre at (3,3) and radius 2, \n",
    "# (ii)centre at (7,7) and radius 2\n",
    "# (iii) centre at (11,11) and radius 2. "
   ]
  },
  {
   "cell_type": "code",
   "execution_count": 131,
   "id": "e7cab59c",
   "metadata": {},
   "outputs": [],
   "source": [
    "# Generate 10 random points \n",
    "\n",
    "import math\n",
    "import random\n",
    "\n",
    "PI = 3.141592653589\n",
    "\n",
    "class pair:\n",
    " \n",
    "    def __init__(self, first, second):\n",
    "        self.first = first;\n",
    "        self.second = second;\n",
    " \n",
    "# Return a random between 0 & 1\n",
    "def uniform():\n",
    "    return random.random();\n",
    " \n",
    "\n",
    "def randPoint(r, x, y, n):\n",
    "    \n",
    "    # Result vector\n",
    "    res = list();\n",
    " \n",
    "    for i in range(n):\n",
    "        # Get Angle in radians\n",
    "        theta = 2 * PI * uniform();\n",
    " \n",
    "        # Get length from center\n",
    "        len = math.sqrt(uniform()) * r;\n",
    " \n",
    "        # Add point to results.\n",
    "        res.append(pair((x + len * math.cos(theta)), (y + len * math.sin(theta))));\n",
    " \n",
    "    # Return the N points\n",
    "    return res;\n",
    " \n",
    "# Function to display the content of\n",
    "# the vector A\n",
    "def printVector(A):\n",
    " \n",
    "    # Iterate over A\n",
    "    for P in A:\n",
    "        # Print the N random points stored\n",
    "        print(\"({0:.2f}\".format(P.first),\", \",\"{0:.2f})\".format(P.second));\n",
    "    \n",
    "    return [\"({0:.2f}\".format(P.first),\", \",\"{0:.2f})\".format(P.second)]\n",
    "\n",
    "    "
   ]
  },
  {
   "cell_type": "code",
   "execution_count": 132,
   "id": "7da427f0",
   "metadata": {},
   "outputs": [
    {
     "name": "stdout",
     "output_type": "stream",
     "text": [
      "(1.03 ,  3.08)\n",
      "(3.34 ,  2.78)\n",
      "(1.41 ,  3.70)\n",
      "(2.42 ,  1.91)\n",
      "(4.63 ,  2.79)\n",
      "(4.71 ,  3.07)\n",
      "(2.64 ,  3.95)\n",
      "(2.54 ,  3.76)\n",
      "(2.46 ,  3.21)\n",
      "(1.50 ,  2.77)\n"
     ]
    }
   ],
   "source": [
    "# (i) centre at (3,3) and radius 2\n",
    "R = 2\n",
    "X = 3\n",
    "Y = 3\n",
    "N = 10\n",
    "\n",
    "# Function c\n",
    "P=printVector(randPoint(R, X, Y, N))\n",
    " "
   ]
  },
  {
   "cell_type": "code",
   "execution_count": 133,
   "id": "67afa69f",
   "metadata": {},
   "outputs": [],
   "source": [
    "data1=np.array([[1.67 ,  3.49],[2.72 ,  3.54],[1.76 ,  2.34],[4.31 ,  1.69],[4.98 ,  2.88],[4.25 ,  1.48],\n",
    "               [1.04 ,  2.99],[1.90 ,  2.12],[2.87 ,  3.42],[2.17 ,  1.38]])"
   ]
  },
  {
   "cell_type": "code",
   "execution_count": 172,
   "id": "55f48c2d",
   "metadata": {},
   "outputs": [],
   "source": [
    "import csv\n",
    "\n",
    "# field names \n",
    "fields = ['x1','x2'] \n",
    "    \n",
    "# data rows of csv file \n",
    "rows = data1\n",
    "  \n",
    "with open('Lab13_1.csv', 'w') as f:\n",
    "      \n",
    "    # using csv.writer method from CSV package\n",
    "    write = csv.writer(f)\n",
    "      \n",
    "    write.writerow(fields)\n",
    "    write.writerows(rows)"
   ]
  },
  {
   "cell_type": "code",
   "execution_count": 173,
   "id": "4bcdbf32",
   "metadata": {},
   "outputs": [
    {
     "data": {
      "image/png": "[encoded data removed]",
      "text/plain": [
       "<Figure size 540x324 with 1 Axes>"
      ]
     },
     "metadata": {
      "needs_background": "light"
     },
     "output_type": "display_data"
    }
   ],
   "source": [
    "#plot the data1\n",
    "\n",
    "import numpy as np\n",
    "from matplotlib import pyplot as plt\n",
    "\n",
    "# Set the figure size\n",
    "plt.rcParams[\"figure.figsize\"] = [7.50, 4.50]\n",
    "d=pd.read_csv('Lab13_1.csv')\n",
    "# Scatter plot\n",
    "plt.scatter(d.iloc[:, 0], d.iloc[:, 1],  cmap='hot')\n",
    "\n",
    "# Display the plot\n",
    "plt.show()"
   ]
  },
  {
   "cell_type": "code",
   "execution_count": 135,
   "id": "9bf56ce4",
   "metadata": {},
   "outputs": [
    {
     "name": "stdout",
     "output_type": "stream",
     "text": [
      "The clusters and the respective centroids are: \n"
     ]
    },
    {
     "data": {
      "text/plain": [
       "[[],\n",
       " [array([1.67, 3.49]),\n",
       "  array([2.72, 3.54]),\n",
       "  array([1.76, 2.34]),\n",
       "  array([4.31, 1.69]),\n",
       "  array([4.98, 2.88]),\n",
       "  array([4.25, 1.48]),\n",
       "  array([1.04, 2.99]),\n",
       "  array([1.9 , 2.12]),\n",
       "  array([2.87, 3.42]),\n",
       "  array([2.17, 1.38])],\n",
       " [0.0, 0.0],\n",
       " [2.7667233276672336, 5.299470052994701]]"
      ]
     },
     "execution_count": 135,
     "metadata": {},
     "output_type": "execute_result"
    }
   ],
   "source": [
    "U1=[1,3] # new centroid\n",
    "U2=[4,4]\n",
    "m=len(data1)\n",
    "epoch=100\n",
    "K=2  # no. of clusters\n",
    "Kmeans(data1,epoch,m,U1,U2)"
   ]
  },
  {
   "cell_type": "markdown",
   "id": "027dc08a",
   "metadata": {},
   "source": [
    "## (ii)centre at (7,7) and radius 2"
   ]
  },
  {
   "cell_type": "code",
   "execution_count": 153,
   "id": "fa986b08",
   "metadata": {},
   "outputs": [
    {
     "name": "stdout",
     "output_type": "stream",
     "text": [
      "(8.46 ,  5.96)\n",
      "(6.70 ,  5.47)\n",
      "(7.15 ,  7.64)\n",
      "(6.60 ,  6.27)\n",
      "(6.55 ,  5.67)\n",
      "(5.33 ,  6.61)\n",
      "(6.56 ,  6.54)\n",
      "(6.84 ,  7.36)\n",
      "(5.86 ,  6.83)\n",
      "(7.65 ,  8.14)\n"
     ]
    },
    {
     "data": {
      "text/plain": [
       "['(7.65', ', ', '8.14)']"
      ]
     },
     "execution_count": 153,
     "metadata": {},
     "output_type": "execute_result"
    }
   ],
   "source": [
    "R = 2\n",
    "X = 7\n",
    "Y = 7\n",
    "N = 10\n",
    "\n",
    "# Function c\n",
    "printVector(randPoint(R, X, Y, N))\n",
    " "
   ]
  },
  {
   "cell_type": "code",
   "execution_count": 137,
   "id": "9d5b43a5",
   "metadata": {},
   "outputs": [],
   "source": [
    "data2=np.array([[6.20 ,  8.33],[5.76 ,  7.48],[7.65 ,  8.75],[6.97 ,  5.32],\n",
    "               [5.86 ,  7.42],[8.58 ,  8.20],[6.82 ,  5.38],[8.34 ,  5.54],[7.72 ,  5.73],[5.74 ,  7.42]])"
   ]
  },
  {
   "cell_type": "code",
   "execution_count": 163,
   "id": "3cb07a86",
   "metadata": {},
   "outputs": [],
   "source": [
    "import csv\n",
    "  \n",
    "  \n",
    "# field names \n",
    "fields = ['x1','x2'] \n",
    "    \n",
    "# data rows of csv file \n",
    "rows = data2\n",
    "  \n",
    "with open('Lab13_2', 'w') as f:\n",
    "      \n",
    "    # using csv.writer method from CSV package\n",
    "    write = csv.writer(f)\n",
    "      \n",
    "    write.writerow(fields)\n",
    "    write.writerows(rows)"
   ]
  },
  {
   "cell_type": "code",
   "execution_count": 170,
   "id": "1428ab7d",
   "metadata": {},
   "outputs": [
    {
     "data": {
      "image/png": "[encoded data removed]",
      "text/plain": [
       "<Figure size 540x324 with 1 Axes>"
      ]
     },
     "metadata": {
      "needs_background": "light"
     },
     "output_type": "display_data"
    }
   ],
   "source": [
    "#plot the data2\n",
    "import pandas as pd\n",
    "import numpy as np\n",
    "from matplotlib import pyplot as plt\n",
    "\n",
    "# Set the figure size\n",
    "plt.rcParams[\"figure.figsize\"] = [7.50, 4.50]\n",
    "d=pd.read_csv('Lab13_2.csv')\n",
    "# Scatter plot\n",
    "plt.scatter(d.iloc[:, 0], d.iloc[:, 1],  cmap='hot')\n",
    "\n",
    "# Display the plot\n",
    "plt.show()"
   ]
  },
  {
   "cell_type": "code",
   "execution_count": 149,
   "id": "e0335259",
   "metadata": {},
   "outputs": [
    {
     "name": "stdout",
     "output_type": "stream",
     "text": [
      "The clusters and the respective centroids are: \n"
     ]
    },
    {
     "data": {
      "text/plain": [
       "[[],\n",
       " [array([6.2 , 8.33]),\n",
       "  array([5.76, 7.48]),\n",
       "  array([7.65, 8.75]),\n",
       "  array([6.97, 5.32]),\n",
       "  array([5.86, 7.42]),\n",
       "  array([8.58, 8.2 ]),\n",
       "  array([6.82, 5.38]),\n",
       "  array([8.34, 5.54]),\n",
       "  array([7.72, 5.73]),\n",
       "  array([5.74, 7.42])],\n",
       " [0.0, 0.0],\n",
       " [6.963303669633036, 13.91960803919608]]"
      ]
     },
     "execution_count": 149,
     "metadata": {},
     "output_type": "execute_result"
    }
   ],
   "source": [
    "U1=[1.5,2.5] # initial centroid\n",
    "U2=[1,6]\n",
    "m=len(data2)\n",
    "epoch=100\n",
    "K=2  # no. of clusters\n",
    "Kmeans(data2,epoch,m,U1,U2)"
   ]
  },
  {
   "cell_type": "code",
   "execution_count": 150,
   "id": "fd74f26e",
   "metadata": {},
   "outputs": [
    {
     "name": "stdout",
     "output_type": "stream",
     "text": [
      "(11.87 ,  11.03)\n",
      "(9.77 ,  10.13)\n",
      "(10.17 ,  10.79)\n",
      "(10.17 ,  12.73)\n",
      "(10.19 ,  9.77)\n",
      "(10.38 ,  10.23)\n",
      "(12.31 ,  9.98)\n",
      "(11.39 ,  11.44)\n",
      "(9.95 ,  10.95)\n",
      "(9.66 ,  10.47)\n"
     ]
    }
   ],
   "source": [
    "#(iii) centre at (11,11) and radius 2. \n",
    "\n",
    "R = 2\n",
    "X = 11\n",
    "Y = 11\n",
    "N = 10\n",
    "\n",
    "# Function c\n",
    "P=printVector(randPoint(R, X, Y, N))"
   ]
  },
  {
   "cell_type": "code",
   "execution_count": 151,
   "id": "c4e9a907",
   "metadata": {},
   "outputs": [],
   "source": [
    "data3=np.array([[10.30 ,  9.56],[10.30 ,  10.99],[12.47 ,  10.50],[11.31 ,  9.18],[12.19 ,  11.05],\n",
    "                [10.52 ,  11.50],[11.26 ,  9.31],[9.46 ,  10.25],[10.54 ,  9.48],[10.35 ,  11.37]])"
   ]
  },
  {
   "cell_type": "code",
   "execution_count": 176,
   "id": "3cfb3002",
   "metadata": {},
   "outputs": [],
   "source": [
    "import csv\n",
    "  \n",
    "  \n",
    "# field names \n",
    "fields = ['x1','x2'] \n",
    "    \n",
    "# data rows of csv file \n",
    "rows = data3\n",
    "  \n",
    "with open('Lab13_3.csv', 'w') as f:\n",
    "      \n",
    "    # using csv.writer method from CSV package\n",
    "    write = csv.writer(f)\n",
    "      \n",
    "    write.writerow(fields)\n",
    "    write.writerows(rows)"
   ]
  },
  {
   "cell_type": "code",
   "execution_count": 177,
   "id": "408b5a39",
   "metadata": {},
   "outputs": [
    {
     "data": {
      "image/png": "[encoded data removed]",
      "text/plain": [
       "<Figure size 540x324 with 1 Axes>"
      ]
     },
     "metadata": {
      "needs_background": "light"
     },
     "output_type": "display_data"
    }
   ],
   "source": [
    "#plot the data2\n",
    "\n",
    "import numpy as np\n",
    "from matplotlib import pyplot as plt\n",
    "\n",
    "# Set the figure size\n",
    "plt.rcParams[\"figure.figsize\"] = [7.50, 4.50]\n",
    "d=pd.read_csv('Lab13_3.csv')\n",
    "# Scatter plot\n",
    "plt.scatter(d.iloc[:, 0], d.iloc[:, 1],  cmap='hot')\n",
    "\n",
    "# Display the plot\n",
    "plt.show()"
   ]
  },
  {
   "cell_type": "code",
   "execution_count": 178,
   "id": "12f3fd37",
   "metadata": {},
   "outputs": [
    {
     "name": "stdout",
     "output_type": "stream",
     "text": [
      "The clusters and the respective centroids are: \n"
     ]
    },
    {
     "data": {
      "text/plain": [
       "[[array([6.2 , 8.33]),\n",
       "  array([5.76, 7.48]),\n",
       "  array([7.65, 8.75]),\n",
       "  array([6.97, 5.32]),\n",
       "  array([5.86, 7.42]),\n",
       "  array([8.58, 8.2 ]),\n",
       "  array([6.82, 5.38]),\n",
       "  array([8.34, 5.54]),\n",
       "  array([7.72, 5.73]),\n",
       "  array([5.74, 7.42])],\n",
       " [],\n",
       " [6.963303669633036, 13.91960803919608],\n",
       " [0.0, 0.0]]"
      ]
     },
     "execution_count": 178,
     "metadata": {},
     "output_type": "execute_result"
    }
   ],
   "source": [
    "U1=[1,10] # initial centroid\n",
    "U2=[12,16]\n",
    "m=len(data2)\n",
    "epoch=10\n",
    "K=2  # no. of clusters\n",
    "Kmeans(data2,epoch,m,U1,U2)"
   ]
  },
  {
   "cell_type": "code",
   "execution_count": null,
   "id": "e1b1a64b",
   "metadata": {},
   "outputs": [],
   "source": []
  }
 ],
 "metadata": {
  "kernelspec": {
   "display_name": "Python 3 (ipykernel)",
   "language": "python",
   "name": "python3"
  },
  "language_info": {
   "codemirror_mode": {
    "name": "ipython",
    "version": 3
   },
   "file_extension": ".py",
   "mimetype": "text/x-python",
   "name": "python",
   "nbconvert_exporter": "python",
   "pygments_lexer": "ipython3",
   "version": "3.9.7"
  }
 },
 "nbformat": 4,
 "nbformat_minor": 5
}
